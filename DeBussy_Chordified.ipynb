{
  "cells": [
    {
      "cell_type": "markdown",
      "metadata": {
        "gradient": {
          "editing": false,
          "id": "ac5a4cf0-d9d2-47b5-9633-b53f8d99a4d2",
          "kernelId": ""
        },
        "id": "SiTIpPjArIyr"
      },
      "source": [
        "# DeBussy Chordified (ver. 0.5)\n",
        "\n",
        "***\n",
        "\n",
        "Powered by tegridy-tools: https://github.com/asigalov61/tegridy-tools\n",
        "\n",
        "***\n",
        "\n",
        "Credit for GPT2-RGA code used in this colab goes out @ Sashmark97 https://github.com/Sashmark97/midigen and @ Damon Gwinn https://github.com/gwinndr/MusicTransformer-Pytorch\n",
        "\n",
        "***\n",
        "\n",
        "WARNING: This complete implementation is a functioning model of the Artificial Intelligence. Please excercise great humility, care, and respect. https://www.nscai.gov/\n",
        "\n",
        "***\n",
        "\n",
        "#### Project Los Angeles\n",
        "\n",
        "#### Tegridy Code 2022\n",
        "\n",
        "***"
      ]
    },
    {
      "cell_type": "markdown",
      "metadata": {
        "gradient": {
          "editing": false,
          "id": "fa0a611c-1803-42ae-bdf6-a49b5a4e781b",
          "kernelId": ""
        },
        "id": "gOd93yV0sGd2"
      },
      "source": [
        "# (Setup Environment)"
      ]
    },
    {
      "cell_type": "code",
      "execution_count": null,
      "metadata": {
        "cellView": "form",
        "gradient": {
          "editing": false,
          "id": "39411b40-9e39-416e-8fe4-d40f733e7956",
          "kernelId": ""
        },
        "id": "lw-4aqV3sKQG"
      },
      "outputs": [],
      "source": [
        "#@title nvidia-smi gpu check\n",
        "!nvidia-smi"
      ]
    },
    {
      "cell_type": "code",
      "execution_count": null,
      "metadata": {
        "gradient": {
          "editing": false,
          "id": "a1a45a91-d909-4fd4-b67a-5e16b971d179",
          "kernelId": ""
        },
        "id": "fX12Yquyuihc",
        "cellView": "form"
      },
      "outputs": [],
      "source": [
        "#@title Install all dependencies (run only once per session)\n",
        "\n",
        "!git clone https://github.com/asigalov61/DeBussy\n",
        "\n",
        "!pip install torch\n",
        "\n",
        "!pip install tqdm\n",
        "!pip install matplotlib\n",
        "!pip install torch-summary\n",
        "\n",
        "!apt install fluidsynth #Pip does not work for some reason. Only apt works\n",
        "!pip install midi2audio\n",
        "!pip install pretty_midi"
      ]
    },
    {
      "cell_type": "code",
      "execution_count": null,
      "metadata": {
        "cellView": "form",
        "gradient": {
          "editing": false,
          "id": "b8207b76-9514-4c07-95db-95a4742e52c5",
          "kernelId": ""
        },
        "id": "z7n9vnKmug1J"
      },
      "outputs": [],
      "source": [
        "#@title Import all needed modules\n",
        "\n",
        "print('Loading needed modules. Please wait...')\n",
        "import os\n",
        "import random\n",
        "import copy\n",
        "\n",
        "from collections import OrderedDict\n",
        "\n",
        "from tqdm import tqdm\n",
        "\n",
        "import matplotlib.pyplot as plt\n",
        "\n",
        "from torchsummary import summary\n",
        "\n",
        "print('Loading TMIDIX module...')\n",
        "os.chdir('/content/DeBussy')\n",
        "\n",
        "import TMIDIX\n",
        "from GPT2RGAX import *\n",
        "\n",
        "from midi2audio import FluidSynth\n",
        "import pretty_midi\n",
        "import librosa.display\n",
        "from IPython.display import Audio\n",
        "\n",
        "os.chdir('/content/')"
      ]
    },
    {
      "cell_type": "markdown",
      "metadata": {
        "id": "mdKFoeke9L7H"
      },
      "source": [
        "# (MODEL LOAD)"
      ]
    },
    {
      "cell_type": "code",
      "source": [
        "#@title Unzip pre-trained DeBussy Model\n",
        "%cd /content/DeBussy/Model\n",
        "\n",
        "print('=' * 70)\n",
        "print('Unzipping pre-trained dataset-model...Please wait...')\n",
        "print('=' * 70)\n",
        "\n",
        "!cat /content/DeBussy/Model/DeBussy-Trained-Model.zip* > DeBussy-Trained-Model.zip\n",
        "print('=' * 70)\n",
        "\n",
        "!unzip -j DeBussy-Trained-Model.zip\n",
        "print('=' * 70)\n",
        "\n",
        "print('Done! Enjoy! :)')\n",
        "print('=' * 70)\n",
        "%cd /content/"
      ],
      "metadata": {
        "cellView": "form",
        "id": "R1mWYJRKU-G4"
      },
      "execution_count": null,
      "outputs": []
    },
    {
      "cell_type": "code",
      "source": [
        "#@title Load/Reload the model\n",
        "\n",
        "full_path_to_model_checkpoint = \"/content/DeBussy/Model/DeBussy-Trained-Model.pth\" #@param {type:\"string\"}\n",
        "\n",
        "print('Loading the model...')\n",
        "config = GPTConfig(640, \n",
        "                   512,\n",
        "                   dim_feedforward=512,\n",
        "                   n_layer=16, \n",
        "                   n_head=16, \n",
        "                   n_embd=512,\n",
        "                   enable_rpr=True,\n",
        "                   er_len=512)\n",
        "\n",
        "device = torch.device(\"cuda\" if torch.cuda.is_available() else \"cpu\")\n",
        "\n",
        "model = GPT(config)\n",
        "\n",
        "state_dict = torch.load(full_path_to_model_checkpoint, map_location=device)\n",
        "\n",
        "new_state_dict = OrderedDict()\n",
        "for k, v in state_dict.items():\n",
        "    name = k[7:] #remove 'module'\n",
        "    new_state_dict[name] = v\n",
        "\n",
        "model.load_state_dict(new_state_dict)\n",
        "\n",
        "model.to(device)\n",
        "\n",
        "model.eval()\n",
        "\n",
        "print('Done!')\n",
        "\n",
        "summary(model)"
      ],
      "metadata": {
        "cellView": "form",
        "id": "-NLe35B0b9a5"
      },
      "execution_count": null,
      "outputs": []
    },
    {
      "cell_type": "markdown",
      "source": [
        "# (GENERATE)"
      ],
      "metadata": {
        "id": "RCKJSbl4erb0"
      }
    },
    {
      "cell_type": "markdown",
      "source": [
        "# Load Custom MIDI / MIDI seed"
      ],
      "metadata": {
        "id": "I18Ej90IaIyY"
      }
    },
    {
      "cell_type": "code",
      "source": [
        "#@title Custom MIDI option\n",
        "full_path_to_custom_MIDI = \"/content/DeBussy/DeBussy-Seed-1.mid\" #@param {type:\"string\"}\n",
        "\n",
        "print('Loading custom MIDI file...')\n",
        "\n",
        "score = TMIDIX.midi2ms_score(open(full_path_to_custom_MIDI, 'rb').read())\n",
        "\n",
        "events_matrix1 = []\n",
        "\n",
        "itrack = 1\n",
        "\n",
        "while itrack < len(score):\n",
        "    for event in score[itrack]:         \n",
        "        if event[0] == 'note' and event[3] != 9:\n",
        "            events_matrix1.append(event)\n",
        "    itrack += 1\n",
        "\n",
        "# final processing...\n",
        "\n",
        "events_matrix1.sort(key=lambda x: x[4], reverse=True) # Sort by pitch H -> L\n",
        "events_matrix1.sort(key=lambda x: x[1]) # Then sort by start-times\n",
        "\n",
        "if len(events_matrix1) > 0:\n",
        "\n",
        "    # recalculating timings\n",
        "\n",
        "    for e in events_matrix1:\n",
        "        e[1] = int(e[1] / 10) # Time-shift\n",
        "        e[2] = int(e[2] / 10) # Duration\n",
        "\n",
        "    melody_chords = []\n",
        "\n",
        "    pe = events_matrix1[0]\n",
        "\n",
        "    cho = []\n",
        "\n",
        "    for e in events_matrix1:\n",
        "\n",
        "        if  e[1]-pe[1] == 0:\n",
        "          cho.append([e[1]-pe[1], e[2], e[4], e[5]])\n",
        "        else:\n",
        "          melody_chords.append(cho)\n",
        "          \n",
        "          cho = []\n",
        "        \n",
        "          cho.append([e[1]-pe[1], e[2], e[4], e[5]])\n",
        "\n",
        "\n",
        "        pe = e\n",
        "\n",
        "melody_chords_f = []\n",
        "\n",
        "for m in melody_chords:\n",
        "  if len(m) == 1:\n",
        "    noc = 638\n",
        "  else:\n",
        "    noc = 639\n",
        "\n",
        "  chord = [noc]\n",
        "\n",
        "  chord.extend([max(1, min(253, m[0][0]))])\n",
        "  chord.extend([max(1, min(253, m[0][1]))+256])\n",
        "\n",
        "  for mm in m:\n",
        "    if mm[2]+512 not in chord:\n",
        "      chord.append(mm[2]+512)\n",
        "\n",
        "  melody_chords_f.append(chord)\n",
        "\n",
        "\n",
        "inputs = []\n",
        "\n",
        "for m in melody_chords_f:\n",
        "  inputs.extend(m)\n",
        "\n",
        "\n",
        "print('Done!')        "
      ],
      "metadata": {
        "id": "zpNJ3mPO_xlM",
        "cellView": "form"
      },
      "execution_count": null,
      "outputs": []
    },
    {
      "cell_type": "markdown",
      "source": [
        "# Continuations"
      ],
      "metadata": {
        "id": "mgSzlC1mWEel"
      }
    },
    {
      "cell_type": "code",
      "source": [
        "#@title Single Continuation Block Generator\n",
        "\n",
        "#@markdown NOTE: Play with the settings to get different results\n",
        "\n",
        "number_of_prime_tokens = 128 #@param {type:\"slider\", min:32, max:384, step:8}\n",
        "temperature = 0.8 #@param {type:\"slider\", min:0.1, max:1, step:0.1}\n",
        "show_stats = True #@param {type:\"boolean\"}\n",
        "\n",
        "#===================================================================\n",
        "print('=' * 70)\n",
        "print('DeBussy Music Model Continuation Generator')\n",
        "print('=' * 70)\n",
        "\n",
        "print('Generation settings:')\n",
        "print('=' * 70)\n",
        "print('Number of prime tokens:', number_of_prime_tokens)\n",
        "print('Model temperature:', temperature)\n",
        "\n",
        "print('=' * 70)\n",
        "print('Prepping...')\n",
        "\n",
        "\n",
        "rand_seq = model.generate(torch.Tensor(inputs[:number_of_prime_tokens]), \n",
        "                                          target_seq_length=512,\n",
        "                                          temperature=temperature,\n",
        "                                          stop_token=640,\n",
        "                                          verbose=show_stats)\n",
        "  \n",
        "out1 = rand_seq[0].cpu().numpy().tolist()\n",
        "\n",
        "\n",
        "if len(out1) != 0:\n",
        "    \n",
        "    song = out1\n",
        "    song_f = []\n",
        "    time = 0\n",
        "    dur = 0\n",
        "    vel = 0\n",
        "    pitch = 0\n",
        "    channel = 0\n",
        "    son = [song[0]]\n",
        "    for s in song[1:]:\n",
        "\n",
        "        if s < 638:\n",
        "          son.append(s)\n",
        "\n",
        "        else:\n",
        "          if len(son) > 2:\n",
        "\n",
        "            time += son[1] * 10\n",
        "\n",
        "            dur = (son[2] - 256) * 10\n",
        "            \n",
        "            channel = 0 # Piano\n",
        "\n",
        "            if son[0] == 638:\n",
        "\n",
        "                vel = 80\n",
        "            else:\n",
        "                vel = 110\n",
        "\n",
        "            for ss in son[3:]:\n",
        "              pitch = ss - 512\n",
        "                              \n",
        "              song_f.append(['note', time, dur, channel, pitch, vel ])\n",
        "            \n",
        "            son = []\n",
        "            son.append(s)\n",
        "\n",
        "    detailed_stats = TMIDIX.Tegridy_SONG_to_MIDI_Converter(song_f,\n",
        "                                                        output_signature = 'DeBussy',  \n",
        "                                                        output_file_name = '/content/DeBussy-Music-Composition', \n",
        "                                                        track_name='Project Los Angeles',\n",
        "                                                        list_of_MIDI_patches=[0, 0, 0, 0, 0, 0, 0, 0, 0, 0, 0, 0, 0, 0, 0, 0],\n",
        "                                                        number_of_ticks_per_quarter=500)\n",
        "\n",
        "    print('Done!')\n",
        "\n",
        "\n",
        "print('Displaying resulting composition...')\n",
        "fname = '/content/DeBussy-Music-Composition'\n",
        "\n",
        "pm = pretty_midi.PrettyMIDI(fname + '.mid')\n",
        "\n",
        "# Retrieve piano roll of the MIDI file\n",
        "piano_roll = pm.get_piano_roll()\n",
        "\n",
        "plt.figure(figsize=(14, 5))\n",
        "librosa.display.specshow(piano_roll, x_axis='time', y_axis='cqt_note', fmin=1, hop_length=160, sr=16000, cmap=plt.cm.hot)\n",
        "plt.title(fname)\n",
        "\n",
        "FluidSynth(\"/usr/share/sounds/sf2/FluidR3_GM.sf2\", 16000).midi_to_audio(str(fname + '.mid'), str(fname + '.wav'))\n",
        "Audio(str(fname + '.wav'), rate=16000)"
      ],
      "metadata": {
        "id": "nD-Iu_R0xbnx",
        "cellView": "form"
      },
      "execution_count": null,
      "outputs": []
    },
    {
      "cell_type": "markdown",
      "metadata": {
        "id": "YzCMd94Tu_gz"
      },
      "source": [
        "# Congrats! You did it! :)"
      ]
    }
  ],
  "metadata": {
    "colab": {
      "collapsed_sections": [],
      "name": "DeBussy_Chordified.ipynb",
      "private_outputs": true,
      "provenance": []
    },
    "kernelspec": {
      "display_name": "Python 3 (ipykernel)",
      "language": "python",
      "name": "python3"
    },
    "language_info": {
      "codemirror_mode": {
        "name": "ipython",
        "version": 3
      },
      "file_extension": ".py",
      "mimetype": "text/x-python",
      "name": "python",
      "nbconvert_exporter": "python",
      "pygments_lexer": "ipython3",
      "version": "3.9.7"
    },
    "gpuClass": "standard",
    "accelerator": "GPU"
  },
  "nbformat": 4,
  "nbformat_minor": 0
}